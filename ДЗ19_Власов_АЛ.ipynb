{
  "nbformat": 4,
  "nbformat_minor": 0,
  "metadata": {
    "colab": {
      "name": "ДЗ19 Власов АЛ",
      "provenance": [],
      "collapsed_sections": [],
      "toc_visible": true
    },
    "kernelspec": {
      "name": "python3",
      "display_name": "Python 3"
    },
    "accelerator": "GPU"
  },
  "cells": [
    {
      "cell_type": "markdown",
      "metadata": {
        "id": "Oi663VevH8ov"
      },
      "source": [
        "# IMPORT"
      ]
    },
    {
      "cell_type": "code",
      "metadata": {
        "id": "-qC3DSCJbGBf"
      },
      "source": [
        "import pandas as pd\n",
        "from google.colab import files\n",
        "from tensorflow.keras import utils\n",
        "import numpy as np\n",
        "from tensorflow.keras.preprocessing.sequence import pad_sequences\n",
        "from sklearn.preprocessing import StandardScaler\n",
        "import matplotlib.pyplot as plt\n",
        "%matplotlib inline\n",
        "\n",
        "from IPython.display import clear_output\n",
        "\n",
        "from keras.optimizers import Adam\n",
        "from keras.models import Sequential, Model\n",
        "from keras.layers import concatenate, Input, Dense, Dropout, BatchNormalization, Flatten, Conv1D, Conv2D\n",
        "\n",
        "from keras.callbacks import LambdaCallback\n",
        "\n",
        "from datetime import datetime\n",
        "from tensorflow.keras import backend as K\n"
      ],
      "execution_count": null,
      "outputs": []
    },
    {
      "cell_type": "code",
      "metadata": {
        "id": "e-xdS5iFbQOR",
        "colab": {
          "resources": {
            "http://localhost:8080/nbextensions/google.colab/files.js": {
              "data": "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",
              "ok": true,
              "headers": [
                [
                  "content-type",
                  "application/javascript"
                ]
              ],
              "status": 200,
              "status_text": "OK"
            }
          },
          "base_uri": "https://localhost:8080/",
          "height": 112
        },
        "outputId": "7f1b8581-e749-4c57-e706-4226ca8e4ef7"
      },
      "source": [
        "#Загружаем файл с квартирами\n",
        "files.upload()\n",
        "!ls"
      ],
      "execution_count": null,
      "outputs": [
        {
          "output_type": "display_data",
          "data": {
            "text/html": [
              "\n",
              "     <input type=\"file\" id=\"files-9e33cbe6-4155-4960-9468-9254573da592\" name=\"files[]\" multiple disabled />\n",
              "     <output id=\"result-9e33cbe6-4155-4960-9468-9254573da592\">\n",
              "      Upload widget is only available when the cell has been executed in the\n",
              "      current browser session. Please rerun this cell to enable.\n",
              "      </output>\n",
              "      <script src=\"/nbextensions/google.colab/files.js\"></script> "
            ],
            "text/plain": [
              "<IPython.core.display.HTML object>"
            ]
          },
          "metadata": {
            "tags": []
          }
        },
        {
          "output_type": "stream",
          "text": [
            "Saving All_csv_utf8_new.csv to All_csv_utf8_new (1).csv\n",
            "'All_csv_utf8_new (1).csv'   Rezyume_dlya_otsenki_zarplaty.csv\n",
            " All_csv_utf8_new.csv\t     sample_data\n"
          ],
          "name": "stdout"
        }
      ]
    },
    {
      "cell_type": "code",
      "metadata": {
        "id": "V1KF8Tfr5xYG",
        "colab": {
          "base_uri": "https://localhost:8080/",
          "height": 54
        },
        "outputId": "01663284-20c6-4893-8e8e-aece0f5c1aa7"
      },
      "source": [
        "!ls"
      ],
      "execution_count": null,
      "outputs": [
        {
          "output_type": "stream",
          "text": [
            "'All_csv_utf8_new (1).csv'   Rezyume_dlya_otsenki_zarplaty.csv\n",
            " All_csv_utf8_new.csv\t     sample_data\n"
          ],
          "name": "stdout"
        }
      ]
    },
    {
      "cell_type": "code",
      "metadata": {
        "id": "DBBXbhTzFzdg",
        "colab": {
          "base_uri": "https://localhost:8080/",
          "height": 34
        },
        "outputId": "f9a423d9-4435-47dc-e572-ad9a8ec4144d"
      },
      "source": [
        "from google.colab import drive\n",
        "drive.mount('/content/drive/')"
      ],
      "execution_count": null,
      "outputs": [
        {
          "output_type": "stream",
          "text": [
            "Drive already mounted at /content/drive/; to attempt to forcibly remount, call drive.mount(\"/content/drive/\", force_remount=True).\n"
          ],
          "name": "stdout"
        }
      ]
    },
    {
      "cell_type": "markdown",
      "metadata": {
        "id": "I2KzYqJfIBia"
      },
      "source": [
        "# LIGHT + PRO var2 + PRO var3"
      ]
    },
    {
      "cell_type": "markdown",
      "metadata": {
        "id": "S9OkWYI8wJ2C"
      },
      "source": [
        "Сделал лайт, заодно на этой же базе написал callback, а также немного скорректировал модель, чтобы получить менее 800тыс mae (итого получилось 767тыс)"
      ]
    },
    {
      "cell_type": "code",
      "metadata": {
        "id": "ToAb13lvrd8p"
      },
      "source": [
        "#Во всех функция дальше\n",
        "#d - описание квартиры, одна строка из data1\n",
        "\n",
        "\n",
        "#Вычисляем количество комнат\n",
        "#maxRoomCount - максимальное число комнат в квартире\n",
        "def getRoomsCount(d, maxRoomCount):\n",
        "  roomsCountStr = d[0] #Получаем строку с числом комнат\n",
        "\n",
        "  roomsCount = 0\n",
        "  try:\n",
        "    roomsCount = int(roomsCountStr) #Пробуем превратить строку в число\n",
        "    if (roomsCount > maxRoomCount): \n",
        "      roomsCount = maxRoomCount #Если число комнат больше максимального, то присваиваем максимальное\n",
        "  except: #Если не получается превратить строку в число\n",
        "    if (roomsCountStr == roomsCountStr): #Проверяем строку на nan (сравнение с самим собой)\n",
        "      if (\"Ст\" in roomsCountStr): #ЕСть строка = \"Ст\", значит это Студия\n",
        "        roomsCount = maxRoomCount + 1\n",
        "\n",
        "  return roomsCount\n",
        "\n",
        "#Превращаем число комнат в категорию\n",
        "def getRoomsCountCategory(d, maxRoomCount):\n",
        "  roomsCount = getRoomsCount(d, maxRoomCount) #Получаем число комнат\n",
        "  roomsCount = utils.to_categorical(roomsCount, maxRoomCount+2) #Превращаем в категорию\n",
        "  #maxRoomCount+2 потому что 0 зарезервирован на неопознаное число комнат, а maxRoomCount+1 на \"Студию\"\n",
        "  return roomsCount\n",
        "\n",
        "#Получаем индекс станции метро\n",
        "#allMetroNames - все уникальные названия метро в базе\n",
        "def getMetro(d, allMetroNames):\n",
        "  metroStr = d[1] #Получаем строку метро\n",
        "  metro = 0\n",
        "  \n",
        "  if (metroStr in allMetroNames): #Если находим метро во всех названиях\n",
        "    metro = allMetroNames.index(metroStr)+1 #Присваиваем индекс\n",
        "    #+1 так как 0 зарезервирован на неопознанное метро\n",
        "    \n",
        "  return metro\n",
        "\n",
        "#Получаем тип метро\n",
        "#0 - внутри кольца\n",
        "#1 - кольцо\n",
        "#2 - 1-3 станции от конца\n",
        "#3 - 4-8 станций от кольца\n",
        "#4 - больше 8 станций от кольца\n",
        "def getMetroType(d):\n",
        "  metroTypeStr = d[1] #Получаем строку метро\n",
        "  metroTypeClasses = 5 #Число классов метро\n",
        "  metroType = metroTypeClasses - 1 #Изначально считаем последний класс\n",
        "  \n",
        "  #Метро внутри кольца\n",
        "  metroNamesInsideCircle = [\"Площадь Революции\", \"Арбатская\", \"Смоленская\", \"Красные Ворота\", \"Чистые пруды\", \"Лубянка\", \"Охотный Ряд\", \"Библиотека имени Ленина\", \"Кропоткинская\", \"Сухаревская\", \"Тургеневская\", \"Китай-город\", \"Третьяковская\", \"Трубная\", \"Сретенский бульвар\", \"Цветной бульвар\", \"Чеховская\", \"Боровицкая\", \"Полянка\", \"Маяковская\", \"Тверская\", \"Театральная\", \"Новокузнецкая\", \"Пушкинская\", \"Кузнецкий Мост\", \"Китай-город\", \"Александровский сад\"]\n",
        "  #Метро на кольце\n",
        "  metroNamesCircle = [\"Киевская\", \"Парк Культуры\", \"Октябрьская\", \"Добрынинская\", \"Павелецкая\", \"Таганская\", \"Курская\", \"Комсомольская\", \"Проспект Мира\", \"Новослободская\", \"Белорусская\", \"Краснопресненская\"]\n",
        "  #Метро 1-3 станции от кольца\n",
        "  metroNames13FromCircle = [\"Бауманская\", \"Электрозаводская\", \"Семёновская\", \"Площадь Ильича\", \"Авиамоторная\", \"Шоссе Энтузиастов\", \"Римская\", \"Крестьянская Застава\", \"Дубровка\", \"Пролетарская\", \"Волгоградский проспект\", \"Текстильщики\", \"Автозаводская\", \"Технопарк\", \"Коломенская\", \"Тульская\", \"Нагатинская\", \"Нагорная\", \"Шаболовская\", \"Ленинский проспект\", \"Академическая\", \"Фрунзенская\", \"Спортивная\", \"Воробьёвы горы\", \"Студенческая\", \"Кутузовская\", \"Фили\", \"Парк Победы\", \"Выставочная\", \"Международная\", \"Улица 1905 года\", \"Беговая\", \"Полежаевская\", \"Динамо\", \"Аэропорт\", \"Сокол\", \"Деловой центр\", \"Шелепиха\", \"Хорошёвская\", \"ЦСКА\", \"Петровский парк\", \"Савёловская\", \"Дмитровская\", \"Тимирязевская\", \"Достоевская\", \"Марьина Роща\", \"Бутырская\", \"Фонвизинская\", \"Рижская\", \"Алексеевская\", \"ВДНХ\", \"Красносельская\", \"Сокольники\", \"Преображенская площадь\"]\n",
        "  #Метро 4-8 станций от кольа\n",
        "  metroNames48FromCircle = [\"Партизанская\", \"Измайловская\", \"Первомайская\", \"Щёлковская\", \"Новокосино\", \"Новогиреево\", \"Перово\", \"Кузьминки\", \"Рязанский проспект\", \"Выхино\", \"Лермонтовский проспект\", \"Жулебино\", \"Партизанская\", \"Измайловская\", \"Первомайская\", \"Щёлковская\", \"Новокосино\", \"Новогиреево\", \"Перово\", \"Кузьминки\", \"Рязанский проспект\", \"Выхино\", \"Лермонтовский проспект\", \"Жулебино\", \"Улица Дмитриевского\", \"Кожуховская\", \"Печатники\", \"Волжская\", \"Люблино\", \"Братиславская\", \"Коломенская\", \"Каширская\", \"Кантемировская\", \"Царицыно\", \"Орехово\", \"Севастопольская\", \"Чертановская\", \"Южная\", \"Пражская\", \"Варшавская\", \"Профсоюзная\", \"Новые Черёмушки\", \"Калужская\", \"Беляево\", \"Коньково\", \"Университет\", \"Багратионовская\", \"Филёвский парк\", \"Пионерская\", \"Кунцевская\", \"Молодёжная\", \"Октябрьское Поле\", \"Щукинская\", \"Спартак\", \"Тушинская\", \"Сходненская\", \"Войковская\", \"Водный стадион\", \"Речной вокзал\", \"Беломорская\", \"Ховрино\", \"Петровско-Разумовская\", \"Владыкино\", \"Отрадное\", \"Бибирево\", \"Алтуфьево\", \"Фонвизинская\", \"Окружная\", \"Верхние Лихоборы\", \"Селигерская\", \"ВДНХ\", \"Ботанический сад\", \"Свиблово\", \"Бабушкинская\", \"Медведково\", \"Преображенская площадь\", \"Черкизовская\", \"Бульвар Рокоссовского\"]\n",
        "  \n",
        "  #Проверяем, в какую категорию попадает наша станция\n",
        "  if (metroTypeStr in metroNamesInsideCircle):\n",
        "    metroType = 0\n",
        "  if (metroTypeStr in metroNamesCircle):\n",
        "    metroType = 1\n",
        "  if (metroTypeStr in metroNames13FromCircle):\n",
        "    metroType = 2\n",
        "  if (metroTypeStr in metroNames48FromCircle):\n",
        "    metroType = 3\n",
        "  \n",
        "  #Превращаем результат в категорию\n",
        "  metroType = utils.to_categorical(metroType, metroTypeClasses)\n",
        "  return metroType\n",
        "\n",
        "\n",
        "#Вычисляем растояние до метро\n",
        "def getMetroDistance(d):\n",
        "  metroDistanceStr = d[2] #Получаем строку\n",
        "  \n",
        "  metroDistance = 0 #Расстояние до метро\n",
        "  metroDistanceType = 0 #Тип расстояния - пешком или на транспорте\n",
        "  \n",
        "  #ЕСли строка не равна nan  \n",
        "  if (metroDistanceStr == metroDistanceStr):\n",
        "    if (len(metroDistanceStr) > 0):\n",
        "      #Определяем тип расстояния\n",
        "      if (metroDistanceStr[-1] == \"п\"):\n",
        "        metroDistanceType = 1 #Пешком\n",
        "      elif (metroDistanceStr[-1] == \"т\"):\n",
        "        metroDistanceType = 2 #На транспорте\n",
        "\n",
        "      #Выбрасываем последний символ, чтобы осталось только число\n",
        "      metroDistanceStr = metroDistanceStr[:-1]\n",
        "      try:\n",
        "        #Разделяем дистанции на категории\n",
        "        metroDistance = int(metroDistanceStr)\n",
        "        if (metroDistance < 3):\n",
        "          metroDistance = 1\n",
        "        elif (metroDistance < 6):\n",
        "          metroDistance = 2\n",
        "        elif (metroDistance < 10):\n",
        "          metroDistance = 3\n",
        "        elif (metroDistance < 15):\n",
        "          metroDistance = 4\n",
        "        elif (metroDistance < 20):\n",
        "          metroDistance = 5\n",
        "        else:\n",
        "          metroDistance = 6\n",
        "      except: #Если в строке не число, то категория 0\n",
        "        metroDistance = 0\n",
        "  \n",
        "  #Число классов дистанции\n",
        "  metroDistanceClasses = 7\n",
        "  \n",
        "  #У нас 7 категорий дистанции по расстоянию\n",
        "  #И 3 типа дистанции - неопознанный, пешком и транспортом\n",
        "  #Мы создадим вектор длины 3*7 = 21\n",
        "  #Будем преобразовывать индекс расстояния 0-6 в 0-20\n",
        "  #Для типа \"Пешком\" - ничего не меняем\n",
        "  if (metroDistanceType == 2):\n",
        "    metroDistance += metroDistanceClasses #Для типа \"Транспортом\" добавляем 7\n",
        "  if (metroDistanceType == 0):\n",
        "    metroDistance += 2*metroDistanceClasses #Для неопознанного типа добавляем 14\n",
        "    \n",
        "  #Превращаем в категории\n",
        "  metroDistance = utils.to_categorical(metroDistance, 3*metroDistanceClasses)\n",
        "  return metroDistance\n",
        "\n",
        "#Получаем 4 данных\n",
        "#- этаж квартиры\n",
        "#- этажность дома\n",
        "#- индикатор, что последний этаж\n",
        "#- тип дома\n",
        "def getHouseTypeAndFloor(d):\n",
        "  try:\n",
        "    houseStr = d[3] #Получаем строку типа дома и этажей\n",
        "  except:\n",
        "    houseStr = \"\"\n",
        "  \n",
        "  houseType = 0 #Тип дома\n",
        "  floor = 0 #Этаж квартиры\n",
        "  floors = 0 #Этажность дома\n",
        "  isLastFloor = 0 #Индикатор последнего этажа\n",
        "  \n",
        "  #Проверяем строку на nan\n",
        "  if (houseStr == houseStr):\n",
        "    if (len(houseStr) > 1):\n",
        "    \n",
        "      try:\n",
        "        slashIndex = houseStr.index(\"/\") #Ищем разделитель /\n",
        "      except:\n",
        "        print(houseStr)\n",
        "\n",
        "      try:\n",
        "        spaceIndex = houseStr.index(\" \") #Ищем разделитель \" \"\n",
        "      except:\n",
        "        print(houseStr)\n",
        "\n",
        "      #Вытаскиваем строки\n",
        "      floorStr = houseStr[:slashIndex] #Строка этажа\n",
        "      floorsStr = houseStr[slashIndex+1:spaceIndex] #Строка этажнгости дома\n",
        "      houseTypeStr = houseStr[spaceIndex+1:] #Строка типа дома\n",
        "\n",
        "      #Выбираем категорию этажа\n",
        "      try:\n",
        "        floor = int(floorStr) #Превращаем строку в число\n",
        "        floorSave = floor\n",
        "        if (floorSave < 5):\n",
        "          floor = 2\n",
        "        if (floorSave < 10):\n",
        "          floor = 3\n",
        "        if (floorSave < 20):\n",
        "          floor = 4\n",
        "        if (floorSave >= 20):\n",
        "          floor = 5\n",
        "        if (floorSave == 1): #Первый этаж выделяем в отдельную категорию\n",
        "          floor = 1 \n",
        "\n",
        "        if (floor == floors): #Если этаж последний, включаем индикатор последнего этажа\n",
        "          isLastFloor = 1 \n",
        "      except:\n",
        "        floor = 0 #Если строка не парсится в число, то категория этажа = 0 (отдельная)\n",
        "\n",
        "      #Выбираем категорию этажности дома\n",
        "      try:\n",
        "        floors = int(floorsStr) #Превращаем строку в число\n",
        "        floorsSave = floors\n",
        "        if (floorsSave < 5):\n",
        "          floors = 1\n",
        "        if (floorsSave < 10):\n",
        "          floors = 2\n",
        "        if (floorsSave < 20):\n",
        "          floors = 3\n",
        "        if (floorsSave >= 20):\n",
        "          floors = 4\n",
        "      except:\n",
        "        floors = 0 #Если строка не парсится в число, то категория этажности = 0 (отдельная)\n",
        "\n",
        "      #Определяем категорию типа дома\n",
        "      if (len(houseTypeStr) > 0):\n",
        "        if (\"М\" in houseTypeStr): \n",
        "          houseType = 1\n",
        "        if (\"К\" in houseTypeStr): \n",
        "          houseType = 2\n",
        "        if (\"П\" in houseTypeStr): \n",
        "          houseType = 3\n",
        "        if (\"Б\" in houseTypeStr): \n",
        "          houseType = 4\n",
        "        if (\"?\" in houseTypeStr): \n",
        "          houseType = 5\n",
        "        if (\"-\" in houseTypeStr): \n",
        "          houseType = 6\n",
        "    \n",
        "    #Превращаем все категории в one hot encoding\n",
        "    floor = utils.to_categorical(floor, 6)\n",
        "    floors = utils.to_categorical(floors, 5)\n",
        "    houseType = utils.to_categorical(houseType, 7)\n",
        "    \n",
        "    \n",
        "  return floor, floors, isLastFloor, houseType\n",
        "\n",
        "\n",
        "#Вычисляем тип балкона\n",
        "def getBalcony(d):\n",
        "  balconyStr = d[4] #Полуаем строку\n",
        "  #Выписываем все варианты балконов в базе\n",
        "  balconyVariants = ['Л', 'Б', '2Б', '-', '2Б2Л', 'БЛ', '3Б', '2Л', 'Эрк', 'Б2Л', 'ЭркЛ', '3Л', '4Л', '*Л', '*Б']\n",
        "  #Проверяем на nan\n",
        "  if (balconyStr == balconyStr):\n",
        "    balcony = balconyVariants.index(balconyStr)+1 #Находим индекс строки балкона во всех строках\n",
        "  else:\n",
        "    balcony = 0 #Индекс 0 выделяем на строку nan\n",
        "  \n",
        "  #Превращаем в one hot encoding\n",
        "  balcony = utils.to_categorical(balcony, 16)\n",
        "  \n",
        "  return balcony\n",
        "\n",
        "#Определяем тип санузла\n",
        "def getWC(d):\n",
        "  wcStr = d[5] #Получаем строку\n",
        "  #Выписываем все варианты санузлов в базе\n",
        "  wcVariants = ['2', 'Р', 'С', '-', '2С', '+', '4Р', '2Р', '3С', '4С', '4', '3', '3Р']\n",
        "  #Проверяем на nan\n",
        "  if (wcStr == wcStr):\n",
        "    wc = wcVariants.index(wcStr)+1 #Находим индекс строки санузла во всех строках\n",
        "  else:\n",
        "    wc = 0 #Индекс 0 выделяем на строку nan\n",
        "  \n",
        "  #Превращаем в one hot encoding\n",
        "  wc = utils.to_categorical(wc, 14)\n",
        "  \n",
        "  return wc\n",
        "\n",
        "#Определяем площадь\n",
        "def getArea(d):\n",
        "  areaStr = d[6] #Поулачем строку площади\n",
        "  \n",
        "  if (\"/\" in areaStr):\n",
        "    slashIndex = areaStr.index(\"/\") #Находим разделитель /\n",
        "    try:\n",
        "      area = float(areaStr[:slashIndex]) #Берём число до разделителя и превращаем в число\n",
        "    except:\n",
        "      area = 0 #Если не получается, возвращаем 0\n",
        "  else:\n",
        "    area = 0 #Или если нет разделителя, возвращаем 0\n",
        "    \n",
        "  return area\n",
        "\n",
        "#Полуаем цену\n",
        "def getCost(d):\n",
        "  costStr = d[7] #Загружаем строку\n",
        "  \n",
        "  try:\n",
        "    cost = float(costStr) #Пробуем превратить в число\n",
        "  except:\n",
        "    cost = 0 #Если не получается, возвращаем 0\n",
        "  \n",
        "  return cost\n",
        "\n",
        "#Получаем комментарий\n",
        "def getComment(d):\n",
        "  commentStr = d[-1] #Возвращаем данные из последней колонки\n",
        "  \n",
        "  return commentStr\n",
        "\n",
        "#Объединяем все числовые параметры вместе\n",
        "def getAllParameters(d, allMetroNames):\n",
        "  #Загружаем все данные по отдельности\n",
        "  roomsCountType = getRoomsCountCategory(d, 30)\n",
        "  metro = getMetro(d, allMetroNames)\n",
        "  metroType = getMetroType(d)\n",
        "  metroDistance = getMetroDistance(d)\n",
        "  floor, floors, isLastFloor, houseType = getHouseTypeAndFloor(d)\n",
        "  balcony = getBalcony(d)\n",
        "  wc = getWC(d)\n",
        "  area = getArea(d)\n",
        "\n",
        "  #Объединяем в один лист\n",
        "  out = list(roomsCountType)\n",
        "  out.append(metro)\n",
        "  out.extend(metroType)\n",
        "  out.extend(metroDistance)\n",
        "  out.extend(floor)\n",
        "  out.extend(floors)\n",
        "  out.append(isLastFloor)\n",
        "  out.extend(houseType)\n",
        "  out.extend(balcony)\n",
        "  out.extend(wc)\n",
        "  out.append(area)\n",
        "  \n",
        "  return out\n",
        "\n",
        "#Генерируем обучающаюу выборку - xTrain\n",
        "def getXTrain(data):\n",
        "  \n",
        "  #Получаем строку во всеми вариантами метро\n",
        "  allMertroNames = list(df[\"Метро / ЖД станции\"].unique())\n",
        "  \n",
        "  #Всевращаем все строки в data1 в векторы параметров и записываем в xTrain\n",
        "  xTrain = [getAllParameters(d, allMertroNames) for d in data]\n",
        "  xTrain = np.array(xTrain)\n",
        "  \n",
        "  return xTrain\n",
        "\n",
        "#Генерируем обучающую выборку - yTrain\n",
        "def getYTrain(data):\n",
        "  \n",
        "  #Зашружаем лист всех цен квартир по всем строкам data1\n",
        "  costList = [getCost(d) for d in data] \n",
        "  yTrain = np.array(costList)\n",
        "  \n",
        "  return yTrain"
      ],
      "execution_count": null,
      "outputs": []
    },
    {
      "cell_type": "code",
      "metadata": {
        "id": "oE5oOMiHbkKO",
        "colab": {
          "base_uri": "https://localhost:8080/",
          "height": 50
        },
        "outputId": "a89242b1-d468-4222-e5eb-5cd41f88a13e"
      },
      "source": [
        "df = pd.read_csv('/content/drive/My Drive/Colab Notebooks/19 Регрессия/moscow (1).csv', sep=\";\") #Загружаем данные в data frame\n",
        "df = df.iloc[::2,:] #Выбираем нечётные строки, в чётных строках в исходном фрейме пустые строки для комментариев\n",
        "data = df.values #Вытаскиваем данные в numpy array\n",
        "oneRoomMask = [getRoomsCount(d, 30) == 1 for d in data] #Делаем маску однокомнатных квартир, принцип (getRoomsCount(d, 30) == 1)\n",
        "data1 = data[oneRoomMask] #В data1 оставляем только однокомнатные квартиры\n",
        "print(data.shape)\n",
        "print(data1.shape)"
      ],
      "execution_count": null,
      "outputs": [
        {
          "output_type": "stream",
          "text": [
            "(126268, 14)\n",
            "(62504, 14)\n"
          ],
          "name": "stdout"
        }
      ]
    },
    {
      "cell_type": "code",
      "metadata": {
        "id": "GAP99njqu79F",
        "colab": {
          "base_uri": "https://localhost:8080/",
          "height": 403
        },
        "outputId": "d75a754d-1214-4569-b7cf-8f1860f153dd"
      },
      "source": [
        "print(df.iloc[:,:6].head(20)) #Показываем пример данных (первые 6 колонок)"
      ],
      "execution_count": null,
      "outputs": [
        {
          "output_type": "stream",
          "text": [
            "   Комнат        Метро / ЖД станции От станции        Дом Балкон Санузел\n",
            "0       1               Шелепиха м.        12п    35/37 М    NaN       2\n",
            "2       1        Пятницкое шоссе м.        30т    11/14 П      Л       Р\n",
            "4       1              Планерная м.         5т    11/22 П      Б       С\n",
            "6       1            Шаболовская м.        12п     8/12 ?      Б       Р\n",
            "8       1           Бабушкинская м.        15п     4/14 П    NaN       С\n",
            "10      1               Шелепиха м.        15п     9/36 К    NaN     NaN\n",
            "12      1    Улица Дмитриевского м.         2п     7/16 П      Л       Р\n",
            "14      1  Бульвар Рокоссовского м.         2п      2/5 К      Б       С\n",
            "16      1           Марьина Роща м.        10п     7/14 П     2Б     NaN\n",
            "18      1                Марьино м.        20п  10/24 М-К    NaN       -\n",
            "20      1                Марьино м.         5т      5/5 П      Б       С\n",
            "22      1              Печатники м.         5т     2/12 П      -       С\n",
            "24      1      Красногвардейская м.         3п    20/30 М      Б       С\n",
            "26      1      Красногвардейская м.         3п    12/30 М      Б       С\n",
            "28      1      Красногвардейская м.         3п    16/30 М      -       С\n",
            "30      1         Площадь Ильича м.         8п     1/10 М      -       С\n",
            "32      1      Красногвардейская м.         3п     2/30 М      -       С\n",
            "34      1      Красногвардейская м.         3п     2/30 М      -       С\n",
            "36      1         Площадь Ильича м.         8п     8/28 М      Б      2С\n",
            "38      1         Площадь Ильича м.         8п    10/28 М      Б       С\n"
          ],
          "name": "stdout"
        }
      ]
    },
    {
      "cell_type": "code",
      "metadata": {
        "id": "m9n8K1K8o44h",
        "colab": {
          "base_uri": "https://localhost:8080/",
          "height": 90
        },
        "outputId": "01fa6d62-e6b7-479b-b7c7-05a5432ede7e"
      },
      "source": [
        "print(df.columns) #Показываем имена колонок данных\n",
        "#Мы будем использовать\n",
        "\n",
        "#В xTrain - база числовых значени\n",
        "#Комнат\n",
        "#Метро / ЖД станции\n",
        "#От станции\n",
        "#Дом\n",
        "#Балкон\n",
        "#Санузел\n",
        "#Площадь\n",
        "\n",
        "#В xTrainC - база текстов о квартирах\n",
        "#Примечание\n",
        "\n",
        "#В yTrain\n",
        "#Цена, руб.\n",
        "\n",
        "#Остальные колонки игнорируем"
      ],
      "execution_count": null,
      "outputs": [
        {
          "output_type": "stream",
          "text": [
            "Index(['Комнат', 'Метро / ЖД станции', 'От станции', 'Дом', 'Балкон',\n",
            "       'Санузел', 'Площадь', 'Цена, руб.', 'ГРМ', 'Бонус агенту', 'Дата',\n",
            "       'Кол-во дней в экспозиции', 'Источник', 'Примечание'],\n",
            "      dtype='object')\n"
          ],
          "name": "stdout"
        }
      ]
    },
    {
      "cell_type": "markdown",
      "metadata": {
        "id": "ll3mX7U9qaa5"
      },
      "source": [
        "## Функции парсинга"
      ]
    },
    {
      "cell_type": "markdown",
      "metadata": {
        "id": "TVZIF639CbE7"
      },
      "source": [
        "## Парсинг текста"
      ]
    },
    {
      "cell_type": "code",
      "metadata": {
        "id": "vUhVOsf1Cdfd"
      },
      "source": [
        "###########################\n",
        "# Очистка текста и превращение в набор слов\n",
        "##########################\n",
        "def text2Words(text):\n",
        "\n",
        "  #Удаляем лишние символы\n",
        "  text = text.replace(\".\", \"\")\n",
        "  text = text.replace(\"—\", \"\")\n",
        "  text = text.replace(\",\", \"\")\n",
        "  text = text.replace(\"!\", \"\")\n",
        "  text = text.replace(\"?\", \"\")\n",
        "  text = text.replace(\"…\", \"\")\n",
        "  text = text.lower() #Переводим в нижний регистр\n",
        "  \n",
        "  \n",
        "  words = [] #Тут будут все слов\n",
        "  currWord = \"\" #Тут будет накапливаться текущее слово, между двумя пробелами\n",
        "  \n",
        "  #идём по всем символам\n",
        "  for symbol in text:\n",
        "    \n",
        "    if (symbol != \"\\ufeff\"): #Игнорируем системынй символ в начале строки\n",
        "      if (symbol != \" \"): #Если символ не пробел\n",
        "        currWord += symbol #То добавляем вимвол в текущее слово\n",
        "      else: #Если символ пробел\n",
        "        if (currWord != \"\"): \n",
        "          words.append(currWord) #Добавляем тккущее слово в список слов\n",
        "          currWord = \"\" #И обнуляем текущее слово\n",
        "\n",
        "  #Добавляем финальное слово, если оно не пустое\n",
        "  #Если не сделать, то потеряем финальное слово, потому что текст чаще всего заканчивается на не пробел\n",
        "  if (currWord != \"\"):\n",
        "        words.append(currWord)\n",
        "  \n",
        "  return words\n",
        "\n",
        "\n",
        "###########################\n",
        "# Создание словаря - все слова, упорядоченные по частоте появления\n",
        "##########################\n",
        "def createVocabulary(allWords):\n",
        "  \n",
        "  #Создаём словарь, в котором будут слова и количество их поялвений во всём текста\n",
        "  #Ключи - все наши слова\n",
        "  #Количество появлений пока везде 0\n",
        "  wCount = dict.fromkeys(allWords, 0)\n",
        "\n",
        "  #Проходим по всем словам\n",
        "  for word in allWords:\n",
        "    wCount[word] += 1 #И увеличиаем количество появлений текущего слова на 1\n",
        "\n",
        "  #Выцепляем лист из словаря\n",
        "  wordsList = list(wCount.items())\n",
        "  #И сортируем по частоте появления\n",
        "  wordsList.sort(key = lambda i:i[1], reverse=1)\n",
        "  #key = lambda i:i[1] - говорит, что сортировать надо по частоте появления\n",
        "  #В i[0] у нас слово, в i[1] - частота появления\n",
        "  #reverse=1 говорить сортироваться по убыванию\n",
        "\n",
        "  sortedWords = [] #Тут будет лист всех отсортированных слов\n",
        "\n",
        "  #Проходим по всем словам в отсортированном списке\n",
        "  for word in wordsList:\n",
        "    sortedWords.append(word[0]) #Докидываем слово в лист отсортированных слов\n",
        "\n",
        "  #Это словарь слово - индекс\n",
        "  #Изначально заполнен всеми словами\n",
        "  #У всех индекс 0\n",
        "  wordIndexes = dict.fromkeys(allWords, 0)\n",
        "  #Проходим по всем словам\n",
        "  for word in wordIndexes.keys():\n",
        "    wordIndexes[word] = sortedWords.index(word)+1 #Ставим индекс = индекс слова в отсортированном листе слов + 1\n",
        "    #+1 потому, что индекс 0 резервируем под неопознанные слова\n",
        "\n",
        "  return wordIndexes\n",
        "\n",
        "\n",
        "###########################\n",
        "# Преобразования листа слов в лист индексов\n",
        "##########################\n",
        "def words2Indexes(words, vocabulary, maxWordsCount):\n",
        "  wordsIndexes = []\n",
        "  \n",
        "  #Идём по всем словая\n",
        "  for word in words:\n",
        "    \n",
        "    wordIndex = 0 #Тут будет индекс слова, изначально 0 - слово неопознано\n",
        "    wordInVocabulary = word in vocabulary #Проверяем, есть ли слово в словаре\n",
        "    \n",
        "    #Если слово есть в словаре\n",
        "    if (wordInVocabulary):\n",
        "      index = vocabulary[word] #Индекс = индексу слова в словаре\n",
        "      if (index < maxWordsCount): #Если индекс ниже maxWordsCount - черты отсечения слов\n",
        "        wordIndex = index #То записываем индекс\n",
        "      #Иначе останется значение 0\n",
        "        \n",
        "    wordsIndexes.append(wordIndex)\n",
        "    \n",
        "  return wordsIndexes\n",
        "\n",
        "\n",
        "###########################\n",
        "# Преобразование одного короткого вектора в вектор из 0 и 1\n",
        "# По принципу words bag\n",
        "##########################\n",
        "def changeXTo01(trainVector, wordsCount):\n",
        "  #Создаём вектор длины wordsCount с нулями\n",
        "  out = np.zeros(wordsCount)\n",
        "  \n",
        "  #Идём по всем индексам в строке\n",
        "  for x in trainVector:\n",
        "    out[x] = 1 #В позицию нужного индекса ставим 1\n",
        "    \n",
        "  return out\n",
        "\n",
        "\n",
        "###########################\n",
        "# Преобразование выборки (обучающей или проверочной) к виду 0 и 1\n",
        "# По принципу words bag\n",
        "##########################\n",
        "def changeSetTo01(trainSet, wordsCount):\n",
        "  out = []\n",
        "  \n",
        "  #Проходим по всем векторам в наборе\n",
        "  for x in trainSet:\n",
        "    out.append(changeXTo01(x, wordsCount)) #Добавляем в итоговый набор текущий вектор, преобразованный в bag of words\n",
        "    \n",
        "  return np.array(out)\n",
        "\n",
        "\n",
        "###########################\n",
        "# Формируем обучающую выборку из примечаний к квартирам\n",
        "# Пока в виде слов\n",
        "##########################\n",
        "def getXTrainComments(data):\n",
        "  xTrainComments = [] #Тут будет обучающся выборка\n",
        "  allTextComments = \"\" #Тут будуте все тексты вместе для словаря\n",
        "  \n",
        "  #Идём по всем строкам квартир в базе\n",
        "  for d in data:\n",
        "    currText = getComment(d) #Вытаскиваем примечание к квартире\n",
        "    try: \n",
        "      if (currText == currText): #Проверяем на nan\n",
        "        allTextComments += currText + \" \" #Добавляем текст в общий текст для словаря\n",
        "    except:\n",
        "      currText = \"Нет комментария\" #Если не получается, то делаем стандартный текст \"Нет комментария\"\n",
        "    xTrainComments.append(currText) #Добавляем примечание новой строкой в обучающую выборку\n",
        "  \n",
        "  xTrainComments = np.array(xTrainComments)\n",
        "  \n",
        "  return (xTrainComments, allTextComments)\n",
        "\n",
        "###########################\n",
        "# Формируем обучающую выборку из примечаний к квартирам\n",
        "# Теперь в виде индексов\n",
        "##########################\n",
        "def changeSetToIndexes(xTrainComments, vocabulary, maxWordsCount):\n",
        "  xTrainCommentsIndexes = [] #Тут будет итоговый xTrain примечаний в виде индексов\n",
        "  \n",
        "  #Идём по всем текстам\n",
        "  for text in xTrainComments:\n",
        "    currWords = text2Words(text) #Разбиваем текст на слова\n",
        "    currIndexes = words2Indexes(currWords, vocabulary, maxWordsCount) #Превращаем в лист индексов\n",
        "    currIndexes = np.array(currIndexes)\n",
        "    xTrainCommentsIndexes.append(currIndexes) #Добавляем в xTrain\n",
        "  \n",
        "  xTrainCommentsIndexes = np.array(xTrainCommentsIndexes)\n",
        "  xTrainCommentsIndexes = changeSetTo01(xTrainCommentsIndexes, maxWordsCount) #Превращаем в формат bag of words\n",
        "  return xTrainCommentsIndexes\n",
        "\n",
        "###########################\n",
        "# Формируем обучающую выборку из примечаний к квартирам\n",
        "# Теперь в виде индексов\n",
        "# И с приведением к стандартной длине всех векторов - cropLen\n",
        "##########################\n",
        "def changeSetToIndexesCrop(xTrainComments, vocabulary, maxWordsCount, cropLen):\n",
        "  xTrainCommentsIndexes = [] #Тут будет итоговый xTrain примечаний в виде индексов\n",
        "  \n",
        "  #Идём по всем текстам\n",
        "  for text in xTrainComments:\n",
        "    currWords = text2Words(text) #Разбиваем текст на слова\n",
        "    currIndexes = words2Indexes(currWords, vocabulary, maxWordsCount) #Превращаем в лист индексов\n",
        "    currIndexes = np.array(currIndexes)\n",
        "    xTrainCommentsIndexes.append(currIndexes) #Добавляем в xTrain\n",
        "  \n",
        "  xTrainCommentsIndexes = np.array(xTrainCommentsIndexes)\n",
        "  xTrainCommentsIndexes = pad_sequences(xTrainCommentsIndexes, maxlen=cropLen) #Приводим все вектора к стандартной длине\n",
        "  return xTrainCommentsIndexes"
      ],
      "execution_count": null,
      "outputs": []
    },
    {
      "cell_type": "markdown",
      "metadata": {
        "id": "n1VmRR8PshA7"
      },
      "source": [
        "**Ваша задача для выполнения light задания**\n",
        "\n",
        "*   Загрузить xTrain на числовых данных\n",
        "*   Загрузить xTrainС из \"Примечаний\" (тексты)\n",
        "*   Создать словарь\n",
        "*   Превратить xTrainC в формат bag of words (2000 самых популярных слов)\n",
        "*   Сделать нормирование данных\n",
        "*   Написать нейронную сеть\n",
        "\n"
      ]
    },
    {
      "cell_type": "markdown",
      "metadata": {
        "id": "gN6NH-86IKOX"
      },
      "source": [
        "## Загрузить xTrain на числовых данных"
      ]
    },
    {
      "cell_type": "code",
      "metadata": {
        "id": "cvnkTurwILf5"
      },
      "source": [
        "xTrain = getXTrain(data1)\n",
        "yTrain = getYTrain(data1)"
      ],
      "execution_count": null,
      "outputs": []
    },
    {
      "cell_type": "markdown",
      "metadata": {
        "id": "mCQAID_rKu6s"
      },
      "source": [
        "## Загрузить xTrainС из \"Примечаний\" (тексты)\n",
        "Создать словарь\n",
        "Превратить xTrainC в формат bag of words (2000 самых популярных слов)"
      ]
    },
    {
      "cell_type": "code",
      "metadata": {
        "id": "5gXf0Q8nKlt1"
      },
      "source": [
        "xTrainC, allTextComments = getXTrainComments(data1) #Создаём обучающую выборку по текстам и большо текст для словаря\n",
        "allWords = text2Words(allTextComments) #Собираем полный текст в слова\n",
        "allWords = allWords[::10] #Берём 10% слов (иначе словарь слишком долго формируется)\n",
        "vocabulary = createVocabulary(allWords) #Создаём словарь\n",
        "xTrainC01 = changeSetToIndexes(xTrainC, vocabulary, 2000) #Преобразеум xTrain в bag of words"
      ],
      "execution_count": null,
      "outputs": []
    },
    {
      "cell_type": "code",
      "metadata": {
        "id": "f30KCcvBKyjv",
        "colab": {
          "base_uri": "https://localhost:8080/",
          "height": 67
        },
        "outputId": "22fd08d6-aea9-4db6-8a30-2d29f73034ba"
      },
      "source": [
        "print(xTrain.shape)\n",
        "print(xTrainC01.shape)\n",
        "print(yTrain.shape)"
      ],
      "execution_count": null,
      "outputs": [
        {
          "output_type": "stream",
          "text": [
            "(62504, 109)\n",
            "(62504, 2000)\n",
            "(62504,)\n"
          ],
          "name": "stdout"
        }
      ]
    },
    {
      "cell_type": "markdown",
      "metadata": {
        "id": "qgp1veCFLBLr"
      },
      "source": [
        "## Сделать нормирование данных"
      ]
    },
    {
      "cell_type": "code",
      "metadata": {
        "id": "TcBNTeKLK5mO",
        "colab": {
          "base_uri": "https://localhost:8080/",
          "height": 487
        },
        "outputId": "4a393460-e2e9-4202-aae9-26461e0424d4"
      },
      "source": [
        "#Нормируем размер квартиры в xTrain\n",
        "xScaler = StandardScaler() #Создаём нормировщик нормальным распределением\n",
        "xScaler.fit(xTrain[:,-1].reshape(-1, 1)) #Обучаем его на площадях квартир (последня колонка в xTrain)\n",
        "xTrainScaled = xTrain.copy()\n",
        "xTrainScaled[:,-1] = xScaler.transform(xTrain[:,-1].reshape(-1, 1)).flatten() #Нормируем данные нормировщиком\n",
        "\n",
        "#Выводим размер и два примера для сравнения\n",
        "#Не нормированных данных и нормированных\n",
        "print(xTrainScaled.shape)\n",
        "print(xTrain[0])\n",
        "print(xTrainScaled[0])"
      ],
      "execution_count": null,
      "outputs": [
        {
          "output_type": "stream",
          "text": [
            "(62504, 109)\n",
            "[ 0.   1.   0.   0.   0.   0.   0.   0.   0.   0.   0.   0.   0.   0.\n",
            "  0.   0.   0.   0.   0.   0.   0.   0.   0.   0.   0.   0.   0.   0.\n",
            "  0.   0.   0.   0.   1.   0.   0.   0.   0.   1.   0.   0.   0.   0.\n",
            "  1.   0.   0.   0.   0.   0.   0.   0.   0.   0.   0.   0.   0.   0.\n",
            "  0.   0.   0.   0.   0.   0.   0.   0.   1.   0.   0.   0.   0.   1.\n",
            "  0.   0.   1.   0.   0.   0.   0.   0.   1.   0.   0.   0.   0.   0.\n",
            "  0.   0.   0.   0.   0.   0.   0.   0.   0.   0.   0.   1.   0.   0.\n",
            "  0.   0.   0.   0.   0.   0.   0.   0.   0.   0.  64.1]\n",
            "[0.         1.         0.         0.         0.         0.\n",
            " 0.         0.         0.         0.         0.         0.\n",
            " 0.         0.         0.         0.         0.         0.\n",
            " 0.         0.         0.         0.         0.         0.\n",
            " 0.         0.         0.         0.         0.         0.\n",
            " 0.         0.         1.         0.         0.         0.\n",
            " 0.         1.         0.         0.         0.         0.\n",
            " 1.         0.         0.         0.         0.         0.\n",
            " 0.         0.         0.         0.         0.         0.\n",
            " 0.         0.         0.         0.         0.         0.\n",
            " 0.         0.         0.         0.         1.         0.\n",
            " 0.         0.         0.         1.         0.         0.\n",
            " 1.         0.         0.         0.         0.         0.\n",
            " 1.         0.         0.         0.         0.         0.\n",
            " 0.         0.         0.         0.         0.         0.\n",
            " 0.         0.         0.         0.         0.         1.\n",
            " 0.         0.         0.         0.         0.         0.\n",
            " 0.         0.         0.         0.         0.         0.\n",
            " 1.28438086]\n"
          ],
          "name": "stdout"
        }
      ]
    },
    {
      "cell_type": "code",
      "metadata": {
        "id": "ysI_PU3OORpI",
        "colab": {
          "base_uri": "https://localhost:8080/",
          "height": 67
        },
        "outputId": "52032825-ae52-4f08-92ac-3a535c896a9c"
      },
      "source": [
        "#Нормируем выход сети - цену квартиры\n",
        "yScaler = StandardScaler() #Делаемнормальный нормировщик\n",
        "yScaler.fit(yTrain.reshape(-1, 1)) #Обучаем на ценах квартир\n",
        "yTrainScaled = yScaler.transform(yTrain.reshape(-1, 1)) #Нормируем цены квартир\n",
        "\n",
        "#Выводим размер и два примера для сравнения\n",
        "#Не нормированных данных и нормированных\n",
        "print(yTrainScaled.shape)\n",
        "print(yTrain[0])\n",
        "print(yTrainScaled[0])"
      ],
      "execution_count": null,
      "outputs": [
        {
          "output_type": "stream",
          "text": [
            "(62504, 1)\n",
            "19500000.0\n",
            "[0.45013]\n"
          ],
          "name": "stdout"
        }
      ]
    },
    {
      "cell_type": "code",
      "metadata": {
        "id": "X8tkteOMPMaR",
        "cellView": "form"
      },
      "source": [
        "#@title Текст заголовка по умолчанию\n",
        "splitVal = 0.2 #Процент, который выделяем в проверочную выборку\n",
        "valMask = np.random.sample(xTrainScaled.shape[0]) < splitVal #Создаём маску True-False для создания проверочной выборки"
      ],
      "execution_count": null,
      "outputs": []
    },
    {
      "cell_type": "markdown",
      "metadata": {
        "id": "HT3IlpNBPYC3"
      },
      "source": [
        "## Нейронка"
      ]
    },
    {
      "cell_type": "code",
      "metadata": {
        "id": "R3ML3qImPNwt"
      },
      "source": [
        "def on_epoch_end(epoch, logs):\n",
        "\n",
        "  global last_epoch_time\n",
        "  global best_mae\n",
        "\n",
        "  clear_output(wait=True)\n",
        "\n",
        "  # предсказываем по обучающей выборке\n",
        "  pred = model.predict([xTrainScaled[~valMask], xTrainC01[~valMask]]) #Полуаем выход сети на проверочно выборке\n",
        "  predUnscaled = yScaler.inverse_transform(pred).flatten() #Делаем обратное нормирование выхода к изначальным величинам цен квартир\n",
        "  yTrainUnscaled = yScaler.inverse_transform(yTrainScaled[~valMask]).flatten() #Делаем такое же обратное нормирование yTrain к базовым ценам\n",
        "\n",
        "  # предсказываем по проверочной выборке\n",
        "  pred_val = model.predict([xTrainScaled[valMask], xTrainC01[valMask]]) #Полуаем выход сети на проверочно выборке\n",
        "  predUnscaled_val = yScaler.inverse_transform(pred_val).flatten() #Делаем обратное нормирование выхода к изначальным величинам цен квартир\n",
        "  yTrainUnscaled_val = yScaler.inverse_transform(yTrainScaled[valMask]).flatten() #Делаем такое же обратное нормирование yTrain к базовым ценам\n",
        "\n",
        "  # считаем мае по обучающей выборке\n",
        "  delta = predUnscaled - yTrainUnscaled #Считаем разность предсказания и правильных цен\n",
        "  absDelta = abs(delta) #Берём модуль отклонения\n",
        "  mae_value=round(sum(absDelta) / (1e+6 * len(absDelta)),3)\n",
        "  mae_list.append(mae_value)\n",
        "  print(\"Эпоха\", epoch, \"Текущая mae (обучающая выборка)\", mae_value)\n",
        "\n",
        "  # считаем мае по проверочной выборке\n",
        "  delta_val = predUnscaled_val - yTrainUnscaled_val #Считаем разность предсказания и правильных цен\n",
        "  absDelta_val = abs(delta_val) #Берём модуль отклонения\n",
        "  mae_value_val=round(sum(absDelta_val) / (1e+6 * len(absDelta_val)),3)\n",
        "  mae_val_list.append(mae_value_val)\n",
        "  print(\"Эпоха\", epoch, \"Текущая mae (проверочная выборка)\", mae_value_val)\n",
        "\n",
        "  # складываем показатели мае в список и строим по спискам график ошибок\n",
        "  plt.figure(figsize=(20,5))\n",
        "  plt.subplot(1,3,1)\n",
        "  plt.plot(mae_list, label='mae на обучающей выборке')\n",
        "  plt.plot(mae_val_list, label='mae на проверочной выборке')\n",
        "  plt.xlabel('Эпоха')\n",
        "  plt.ylabel('Значение ошибки')\n",
        "  plt.legend()\n",
        "  plt.title('mae на обучающей и проверочной выборках')\n",
        "\n",
        "  # строим текущий скаттер\n",
        "  plt.subplot(1,3,2)\n",
        "  plt.scatter(yTrainUnscaled, predUnscaled)\n",
        "  plt.xlabel('Правильные значение')\n",
        "  plt.ylabel('Предсказания')\n",
        "  plt.axis('equal')\n",
        "  plt.xlim(plt.xlim())\n",
        "  plt.ylim(plt.ylim())\n",
        "  plt.plot([-100000000, 3000000000], [-100000000, 3000000000])\n",
        "  plt.title('скаттер')\n",
        " \n",
        "  # строим гистограммы ошибок\n",
        "  plt.subplot(1,3,3)\n",
        "  plt.hist(mae_list, bins='auto', label='loss')\n",
        "  plt.hist(mae_val_list, bins='auto', label='val_loss')\n",
        "  plt.xlabel('Количество')\n",
        "  plt.ylabel('Значение ошибок')\n",
        "  plt.title('Гистограмма ошибок')\n",
        "  plt.legend()\n",
        "  plt.show()\n",
        "\n",
        "  # выводим время выполнения и оставшееся время\n",
        "  print('Время обучения на эпохе:', datetime.now()-last_epoch_time)\n",
        "  last_epoch_time = datetime.now()\n",
        "  print('Время обучения суммарное:', datetime.now()-start_time)\n",
        "  if epoch!=epochs-1:\n",
        "    rested_time = (((datetime.now()-start_time)/(epoch+1))*epochs)-(datetime.now()-start_time)\n",
        "  else:\n",
        "    rested_time = 0\n",
        "  print('Остается до конца обучения:', rested_time)\n",
        "\n",
        "  # пилу отслеживам по последним 6 значением мае на проверочной выборке\n",
        "  # если значение скачет \"выше-ниже\" на протяжении этих 6 точек, то снижаем lr\n",
        "  # плато определяем по последним 5 значениям. Если они менялись меньше чем на 900руб напротяжении этого периода, то снижаем lr\n",
        "  if epoch > 6 and model.optimizer.lr.numpy() > 1e-9 and ((mae_val_list[-1] < mae_val_list[-2] and mae_val_list[-2] > mae_val_list[-3] and \n",
        "       mae_val_list[-2] > mae_val_list[-5] and mae_val_list[-4] > mae_val_list[-3] and \n",
        "       mae_val_list[-4] > mae_val_list[-5] and mae_val_list[-6] > mae_val_list[-5] and \n",
        "       mae_val_list[-6] > mae_val_list[-3] and mae_val_list[-6] > mae_val_list[-1]) or \n",
        "      ((mae_val_list[-1]-mae_val_list[-2])<0.0000009 and (mae_val_list[-2]-mae_val_list[-3])<0.0000009 and \n",
        "      (mae_val_list[-3]-mae_val_list[-4])<0.0000009 and (mae_val_list[-4]-mae_val_list[-5])<0.0000009)):\n",
        "    K.set_value(model.optimizer.lr, model.optimizer.lr.numpy()/10)\n",
        "  print('Текущий lr:',model.optimizer.lr.numpy())\n",
        "\n",
        "  # сохраняем модель по минимальному mae проверочной выборки\n",
        "  if epoch == 0:\n",
        "    best_mae = mae_value_val\n",
        "  else:\n",
        "    if mae_value_val < best_mae:\n",
        "      best_mae = mae_value_val\n",
        "      model.save('/content/drive/My Drive/Colab Notebooks/19 Регрессия/model_save/moscow.h5')\n",
        "      print('Модель сохранена')\n",
        "\n",
        "# Коллбэки\n",
        "pltMae = LambdaCallback(on_epoch_end=on_epoch_end)"
      ],
      "execution_count": null,
      "outputs": []
    },
    {
      "cell_type": "code",
      "metadata": {
        "id": "CMV_R_OKPeCm",
        "colab": {
          "base_uri": "https://localhost:8080/",
          "height": 703
        },
        "outputId": "2c53ba24-95e3-4510-af13-a4e9c67348e8"
      },
      "source": [
        "# определяем переменные, которые используются в коллбеке\n",
        "mae_list = []\n",
        "mae_val_list = []\n",
        "start_time = datetime.now()\n",
        "last_epoch_time = datetime.now()\n",
        "epochs = 50\n",
        "best_mae = 0\n",
        "\n",
        "# модель\n",
        "input1 = Input((xTrainScaled.shape[1],))\n",
        "input2 = Input((xTrainC01.shape[1],))\n",
        "\n",
        "x1 = Dense(100, activation=\"relu\")(input1)\n",
        "x1 = Dense(50, activation=\"relu\")(x1)\n",
        "\n",
        "x2 = Dense(1500, activation=\"relu\")(input2)\n",
        "\n",
        "x2 = Dense(500, activation=\"relu\")(x2)\n",
        "\n",
        "x2 = Dense(250, activation=\"relu\")(x2)\n",
        "\n",
        "x = concatenate([x1, x2])\n",
        "\n",
        "x = Dense(600, activation='relu')(x)\n",
        "x = Dense(300, activation='relu')(x)\n",
        "x = Dense(100, activation='relu')(x)\n",
        "x = Dense(1, activation='linear')(x)\n",
        "\n",
        "model = Model((input1, input2), x)\n",
        "\n",
        "model.compile(optimizer=Adam(lr=0.00005), loss='mse')\n",
        "history = model.fit([xTrainScaled[~valMask], xTrainC01[~valMask]], \n",
        "                    yTrainScaled[~valMask], \n",
        "                    epochs=epochs, \n",
        "                    validation_data=([xTrainScaled[valMask], xTrainC01[valMask]], \n",
        "                    yTrainScaled[valMask]), \n",
        "                    verbose=0,\n",
        "                    batch_size=15,\n",
        "                    callbacks=[pltMae])\n",
        "\n",
        "print('Лучший mae', min(mae_val_list))\n",
        "plt.plot(history.history['val_loss'])\n",
        "plt.plot(history.history['loss'])\n",
        "plt.show()"
      ],
      "execution_count": null,
      "outputs": [
        {
          "output_type": "stream",
          "text": [
            "Эпоха 49 Текущая mae (обучающая выборка) 0.276\n",
            "Эпоха 49 Текущая mae (проверочная выборка) 0.767\n"
          ],
          "name": "stdout"
        },
        {
          "output_type": "display_data",
          "data": {
            "image/png": "[encoded data removed]",
            "text/plain": [
              "<Figure size 1440x360 with 3 Axes>"
            ]
          },
          "metadata": {
            "tags": [],
            "needs_background": "light"
          }
        },
        {
          "output_type": "stream",
          "text": [
            "Время обучения на эпохе: 0:00:15.239423\n",
            "Время обучения суммарное: 0:13:04.353269\n",
            "Остается до конца обучения: 0\n",
            "Текущий lr: 5e-07\n",
            "Лучший mae 0.767\n"
          ],
          "name": "stdout"
        },
        {
          "output_type": "display_data",
          "data": {
            "image/png": "[encoded data removed]",
            "text/plain": [
              "<Figure size 432x288 with 1 Axes>"
            ]
          },
          "metadata": {
            "tags": [],
            "needs_background": "light"
          }
        }
      ]
    },
    {
      "cell_type": "code",
      "metadata": {
        "id": "8MLglpiy4Rcr"
      },
      "source": [
        ""
      ],
      "execution_count": null,
      "outputs": []
    }
  ]
}